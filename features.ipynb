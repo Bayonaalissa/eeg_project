{
 "cells": [
  {
   "cell_type": "code",
   "execution_count": 1,
   "metadata": {},
   "outputs": [
    {
     "name": "stderr",
     "output_type": "stream",
     "text": [
      "C:\\Users\\byan\\AppData\\Local\\Temp\\ipykernel_12252\\2735699808.py:3: DeprecationWarning: \n",
      "Pyarrow will become a required dependency of pandas in the next major release of pandas (pandas 3.0),\n",
      "(to allow more performant data types, such as the Arrow string type, and better interoperability with other libraries)\n",
      "but was not found to be installed on your system.\n",
      "If this would cause problems for you,\n",
      "please provide us feedback at https://github.com/pandas-dev/pandas/issues/54466\n",
      "        \n",
      "  import pandas as pd\n"
     ]
    }
   ],
   "source": [
    "import h5py\n",
    "import numpy as np\n",
    "import pandas as pd \n",
    "import scipy"
   ]
  },
  {
   "cell_type": "code",
   "execution_count": 2,
   "metadata": {},
   "outputs": [],
   "source": [
    "def read_data(path_of_data):\n",
    "  \"\"\"\n",
    "  read data seaved in h5py format\n",
    "  assuming group keys that exists are X,y \n",
    "  \"\"\"\n",
    "  with h5py.File(path_of_data, \"r\") as f:\n",
    "    X,y = f[\"X\"][:],f['y'][:]\n",
    "  return X,y\n",
    "\n",
    "\n",
    "def signals_log_sum(signal):\n",
    "    from scipy.special import logsumexp\n",
    "    logSum=logsumexp(signal,-2)\n",
    "    return logSum\n",
    "\n",
    "def signals_rms(signals):\n",
    "  rms=np.sqrt(np.mean(signals**2,axis=-2))\n",
    "  return rms \n",
    "\n",
    "def signals_std(signals):\n",
    "  std = np.std(signals,axis=-2)\n",
    "  return std\n",
    "\n",
    "def signals_avg_power(signals):\n",
    "  power=np.mean(signals,axis=-2)\n",
    "  return power\n",
    "\n",
    "def signals_mean_abs(signals):\n",
    "  mean_abs=np.mean(np.abs(signals),axis=-2)\n",
    "  return mean_abs\n",
    "\n",
    "def signals_energy(signals):\n",
    "  energy=np.mean(np.square(np.abs(signals)),axis=-2)\n",
    "  return energy\n",
    "\n",
    "def band_pass(record, l=0.5, h=60):\n",
    "    \"\"\"\n",
    "    Apply a band-pass filter to multi-channel time series data.\n",
    "\n",
    "    Args:\n",
    "        record (np.ndarray): Multi-channel time series data with shape (n_signals, Time, N_channels).\n",
    "        l (float): Lower frequency cutoff for the band-pass filter.\n",
    "        h (float): Upper frequency cutoff for the band-pass filter.\n",
    "\n",
    "    Returns:\n",
    "        np.ndarray: Filtered channel data with the same shape as the input record.\n",
    "    \"\"\"\n",
    "    sos = scipy.signal.butter(4, (l, h), 'bandpass', fs=256, output='sos')\n",
    "    filtered_channel = scipy.signal.sosfilt(sos, record, axis=-2)\n",
    "    return filtered_channel\n",
    " \n",
    "\n",
    "def get_features(dataset,normalized=True):\n",
    "  features=np.concatenate([\n",
    "                               signals_log_sum(dataset),signals_avg_power(dataset),\n",
    "                               signals_energy(dataset),signals_rms(dataset) ,\n",
    "                               signals_mean_abs(dataset),signals_std(dataset)\n",
    "],axis=-1)\n",
    "  \n",
    "  return features "
   ]
  },
  {
   "cell_type": "code",
   "execution_count": 3,
   "metadata": {},
   "outputs": [],
   "source": [
    "train_18_X,train_18_y= read_data(\"data/train.hdf5\")\n",
    "val_18_X,val_18_y=read_data(\"data/test.hdf5\")"
   ]
  },
  {
   "cell_type": "code",
   "execution_count": 4,
   "metadata": {},
   "outputs": [
    {
     "name": "stdout",
     "output_type": "stream",
     "text": [
      "(15794, 3840, 18) (15794,)\n",
      "(1566, 3840, 18) (1566,)\n"
     ]
    }
   ],
   "source": [
    "print(train_18_X.shape,train_18_y.shape)\n",
    "print(val_18_X.shape,val_18_y.shape)"
   ]
  },
  {
   "cell_type": "code",
   "execution_count": 5,
   "metadata": {},
   "outputs": [],
   "source": [
    "#nans_indicies= np.any(np.isnan(train_18_X),axis=(1,2))\n",
    "#train_18_X,train_18_y = train_18_X[~nans_indicies],train_18_y[~nans_indicies]\n",
    "#nans_indicies= np.any(np.isnan(val_18_X),axis=(1,2))\n",
    "#val_18_X,val_18_y = val_18_X[~nans_indicies],val_18_y[~nans_indicies]"
   ]
  },
  {
   "cell_type": "code",
   "execution_count": 5,
   "metadata": {},
   "outputs": [
    {
     "name": "stdout",
     "output_type": "stream",
     "text": [
      "(15794, 3840, 18) (15794,)\n",
      "(1566,) (1566,)\n"
     ]
    }
   ],
   "source": [
    "print(train_18_X.shape,train_18_y.shape)\n",
    "print(val_18_y.shape,val_18_y.shape)"
   ]
  },
  {
   "cell_type": "code",
   "execution_count": 6,
   "metadata": {},
   "outputs": [],
   "source": [
    "train_18_X = get_features(train_18_X,)\n",
    "val_18_X = get_features(val_18_X,)"
   ]
  },
  {
   "cell_type": "code",
   "execution_count": 8,
   "metadata": {},
   "outputs": [
    {
     "name": "stdout",
     "output_type": "stream",
     "text": [
      "(15794, 108) (15794,)\n",
      "(15794, 108) (1566,)\n"
     ]
    }
   ],
   "source": [
    "print(train_18_X.shape,train_18_y.shape)\n",
    "print(val_18_X.shape,val_18_y.shape)"
   ]
  },
  {
   "cell_type": "code",
   "execution_count": 14,
   "metadata": {},
   "outputs": [],
   "source": [
    "train_18_y = np.where(train_18_y==1,'seizure','normal')\n",
    "val_18_y = np.where(val_18_y==1,'seizure','normal')"
   ]
  },
  {
   "cell_type": "code",
   "execution_count": 15,
   "metadata": {},
   "outputs": [],
   "source": [
    "train_features_df = pd.DataFrame(np.hstack((train_18_X,train_18_y[:,np.newaxis])))\n",
    "test_features_df = pd.DataFrame(np.hstack((val_18_X,val_18_y[:,np.newaxis])))\n"
   ]
  },
  {
   "cell_type": "code",
   "execution_count": 16,
   "metadata": {},
   "outputs": [],
   "source": [
    "train_features_df.to_csv('data/features_train.csv',index=False)\n",
    "test_features_df.to_csv('data/features_test.csv',index=False)"
   ]
  },
  {
   "cell_type": "code",
   "execution_count": 11,
   "metadata": {},
   "outputs": [
    {
     "data": {
      "text/html": [
       "<div>\n",
       "<style scoped>\n",
       "    .dataframe tbody tr th:only-of-type {\n",
       "        vertical-align: middle;\n",
       "    }\n",
       "\n",
       "    .dataframe tbody tr th {\n",
       "        vertical-align: top;\n",
       "    }\n",
       "\n",
       "    .dataframe thead th {\n",
       "        text-align: right;\n",
       "    }\n",
       "</style>\n",
       "<table border=\"1\" class=\"dataframe\">\n",
       "  <thead>\n",
       "    <tr style=\"text-align: right;\">\n",
       "      <th></th>\n",
       "      <th>0</th>\n",
       "      <th>1</th>\n",
       "      <th>2</th>\n",
       "      <th>3</th>\n",
       "      <th>4</th>\n",
       "      <th>5</th>\n",
       "      <th>6</th>\n",
       "      <th>7</th>\n",
       "      <th>8</th>\n",
       "      <th>9</th>\n",
       "      <th>...</th>\n",
       "      <th>99</th>\n",
       "      <th>100</th>\n",
       "      <th>101</th>\n",
       "      <th>102</th>\n",
       "      <th>103</th>\n",
       "      <th>104</th>\n",
       "      <th>105</th>\n",
       "      <th>106</th>\n",
       "      <th>107</th>\n",
       "      <th>108</th>\n",
       "    </tr>\n",
       "  </thead>\n",
       "  <tbody>\n",
       "    <tr>\n",
       "      <th>0</th>\n",
       "      <td>325.513611</td>\n",
       "      <td>624.963501</td>\n",
       "      <td>409.708496</td>\n",
       "      <td>603.394531</td>\n",
       "      <td>413.249847</td>\n",
       "      <td>353.015900</td>\n",
       "      <td>362.864746</td>\n",
       "      <td>681.411255</td>\n",
       "      <td>439.365082</td>\n",
       "      <td>424.517731</td>\n",
       "      <td>...</td>\n",
       "      <td>149.210709</td>\n",
       "      <td>137.938599</td>\n",
       "      <td>151.988678</td>\n",
       "      <td>123.457977</td>\n",
       "      <td>131.850677</td>\n",
       "      <td>111.988602</td>\n",
       "      <td>98.615273</td>\n",
       "      <td>114.103111</td>\n",
       "      <td>95.453064</td>\n",
       "      <td>1.0</td>\n",
       "    </tr>\n",
       "    <tr>\n",
       "      <th>1</th>\n",
       "      <td>205.108353</td>\n",
       "      <td>131.942551</td>\n",
       "      <td>136.784683</td>\n",
       "      <td>158.648376</td>\n",
       "      <td>151.120956</td>\n",
       "      <td>119.375191</td>\n",
       "      <td>128.278107</td>\n",
       "      <td>128.167191</td>\n",
       "      <td>134.984467</td>\n",
       "      <td>125.182358</td>\n",
       "      <td>...</td>\n",
       "      <td>36.867420</td>\n",
       "      <td>50.237579</td>\n",
       "      <td>60.317097</td>\n",
       "      <td>46.421406</td>\n",
       "      <td>39.446640</td>\n",
       "      <td>58.723095</td>\n",
       "      <td>56.553867</td>\n",
       "      <td>59.245579</td>\n",
       "      <td>51.779766</td>\n",
       "      <td>0.0</td>\n",
       "    </tr>\n",
       "    <tr>\n",
       "      <th>2</th>\n",
       "      <td>146.038895</td>\n",
       "      <td>123.386017</td>\n",
       "      <td>89.021904</td>\n",
       "      <td>184.802277</td>\n",
       "      <td>70.034050</td>\n",
       "      <td>114.691467</td>\n",
       "      <td>166.461548</td>\n",
       "      <td>82.594673</td>\n",
       "      <td>147.337189</td>\n",
       "      <td>128.404160</td>\n",
       "      <td>...</td>\n",
       "      <td>44.273838</td>\n",
       "      <td>21.897675</td>\n",
       "      <td>31.232632</td>\n",
       "      <td>18.562162</td>\n",
       "      <td>26.380524</td>\n",
       "      <td>28.410452</td>\n",
       "      <td>37.975960</td>\n",
       "      <td>22.493172</td>\n",
       "      <td>33.861504</td>\n",
       "      <td>0.0</td>\n",
       "    </tr>\n",
       "    <tr>\n",
       "      <th>3</th>\n",
       "      <td>703.291565</td>\n",
       "      <td>1210.647095</td>\n",
       "      <td>1143.052490</td>\n",
       "      <td>1150.476196</td>\n",
       "      <td>1290.354126</td>\n",
       "      <td>1089.133911</td>\n",
       "      <td>1259.096436</td>\n",
       "      <td>1345.836426</td>\n",
       "      <td>1123.516479</td>\n",
       "      <td>1070.755371</td>\n",
       "      <td>...</td>\n",
       "      <td>352.153687</td>\n",
       "      <td>369.538147</td>\n",
       "      <td>378.030884</td>\n",
       "      <td>354.959656</td>\n",
       "      <td>228.551407</td>\n",
       "      <td>317.236786</td>\n",
       "      <td>294.713989</td>\n",
       "      <td>391.028198</td>\n",
       "      <td>349.547455</td>\n",
       "      <td>1.0</td>\n",
       "    </tr>\n",
       "    <tr>\n",
       "      <th>4</th>\n",
       "      <td>116.763390</td>\n",
       "      <td>92.539642</td>\n",
       "      <td>108.608383</td>\n",
       "      <td>169.078156</td>\n",
       "      <td>131.478729</td>\n",
       "      <td>233.517838</td>\n",
       "      <td>114.440117</td>\n",
       "      <td>110.793312</td>\n",
       "      <td>107.273300</td>\n",
       "      <td>108.749878</td>\n",
       "      <td>...</td>\n",
       "      <td>34.908272</td>\n",
       "      <td>41.919285</td>\n",
       "      <td>37.220177</td>\n",
       "      <td>22.589159</td>\n",
       "      <td>28.194540</td>\n",
       "      <td>42.935658</td>\n",
       "      <td>32.492867</td>\n",
       "      <td>32.227161</td>\n",
       "      <td>54.085892</td>\n",
       "      <td>0.0</td>\n",
       "    </tr>\n",
       "  </tbody>\n",
       "</table>\n",
       "<p>5 rows × 109 columns</p>\n",
       "</div>"
      ],
      "text/plain": [
       "          0            1            2            3            4    \\\n",
       "0  325.513611   624.963501   409.708496   603.394531   413.249847   \n",
       "1  205.108353   131.942551   136.784683   158.648376   151.120956   \n",
       "2  146.038895   123.386017    89.021904   184.802277    70.034050   \n",
       "3  703.291565  1210.647095  1143.052490  1150.476196  1290.354126   \n",
       "4  116.763390    92.539642   108.608383   169.078156   131.478729   \n",
       "\n",
       "           5            6            7            8            9    ...  \\\n",
       "0   353.015900   362.864746   681.411255   439.365082   424.517731  ...   \n",
       "1   119.375191   128.278107   128.167191   134.984467   125.182358  ...   \n",
       "2   114.691467   166.461548    82.594673   147.337189   128.404160  ...   \n",
       "3  1089.133911  1259.096436  1345.836426  1123.516479  1070.755371  ...   \n",
       "4   233.517838   114.440117   110.793312   107.273300   108.749878  ...   \n",
       "\n",
       "          99          100         101         102         103         104  \\\n",
       "0  149.210709  137.938599  151.988678  123.457977  131.850677  111.988602   \n",
       "1   36.867420   50.237579   60.317097   46.421406   39.446640   58.723095   \n",
       "2   44.273838   21.897675   31.232632   18.562162   26.380524   28.410452   \n",
       "3  352.153687  369.538147  378.030884  354.959656  228.551407  317.236786   \n",
       "4   34.908272   41.919285   37.220177   22.589159   28.194540   42.935658   \n",
       "\n",
       "          105         106         107  108  \n",
       "0   98.615273  114.103111   95.453064  1.0  \n",
       "1   56.553867   59.245579   51.779766  0.0  \n",
       "2   37.975960   22.493172   33.861504  0.0  \n",
       "3  294.713989  391.028198  349.547455  1.0  \n",
       "4   32.492867   32.227161   54.085892  0.0  \n",
       "\n",
       "[5 rows x 109 columns]"
      ]
     },
     "execution_count": 11,
     "metadata": {},
     "output_type": "execute_result"
    }
   ],
   "source": [
    "train_features_df.head()"
   ]
  }
 ],
 "metadata": {
  "kernelspec": {
   "display_name": ".venv",
   "language": "python",
   "name": "python3"
  },
  "language_info": {
   "codemirror_mode": {
    "name": "ipython",
    "version": 3
   },
   "file_extension": ".py",
   "mimetype": "text/x-python",
   "name": "python",
   "nbconvert_exporter": "python",
   "pygments_lexer": "ipython3",
   "version": "3.11.8"
  }
 },
 "nbformat": 4,
 "nbformat_minor": 2
}
