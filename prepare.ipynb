{
 "cells": [
  {
   "cell_type": "code",
   "execution_count": 2,
   "metadata": {},
   "outputs": [
    {
     "name": "stderr",
     "output_type": "stream",
     "text": [
      "C:\\Users\\byan\\AppData\\Local\\Temp\\ipykernel_10900\\3768267211.py:2: DeprecationWarning: \n",
      "Pyarrow will become a required dependency of pandas in the next major release of pandas (pandas 3.0),\n",
      "(to allow more performant data types, such as the Arrow string type, and better interoperability with other libraries)\n",
      "but was not found to be installed on your system.\n",
      "If this would cause problems for you,\n",
      "please provide us feedback at https://github.com/pandas-dev/pandas/issues/54466\n",
      "        \n",
      "  import pandas as pd\n"
     ]
    }
   ],
   "source": [
    "import os\n",
    "import h5py\n",
    "import pandas as pd\n",
    "import numpy as np\n",
    "import wonambi as wpi\n",
    " \n",
    "base_dir=r\"C:\\Users\\byan\\chb\\chb-mit\"\n",
    "def get_content(fn,base_dir=base_dir):\n",
    "  with open(os.path.join(*[base_dir,fn,fn+\"-summary.txt\"]), encoding='UTF-8') as f:\n",
    "      # read all the document into a list of strings (each line a new string)\n",
    "      content = f.readlines()\n",
    "\n",
    "  return content\n"
   ]
  },
  {
   "cell_type": "code",
   "execution_count": 3,
   "metadata": {},
   "outputs": [],
   "source": [
    "import re\n",
    "part_info_dict = {}\n",
    "\n",
    "def info_dict(content):\n",
    "  \n",
    "  line_nos=len(content)\n",
    "  line_no=1\n",
    "\n",
    "  channels = []\n",
    "  file_name = []\n",
    "  file_info_dict={}\n",
    "\n",
    "  for line in content:\n",
    "\n",
    "    # if there is Channel in the line...\n",
    "    if re.findall('Channel \\d+', line):\n",
    "      # split the line into channel number and channel reference\n",
    "      channel = line.split(': ')\n",
    "      # get the channel reference and remove any new lines\n",
    "      channel = channel[-1].replace(\"\\n\", \"\")\n",
    "      # put into the channel list\n",
    "      channels.append(channel)\n",
    "\n",
    "    # if the line is the file name\n",
    "    elif re.findall('File Name', line):\n",
    "      # if there is already a file_name\n",
    "      if file_name:\n",
    "        # flush the current file info to it\n",
    "        part_info_dict[file_name] = file_info_dict\n",
    "\n",
    "      # get the file name\n",
    "      file_name = re.findall('\\w+\\d+_\\d+|\\w+\\d+\\w+_\\d+', line)[0]\n",
    "\n",
    "      file_info_dict = {}\n",
    "      # put the channel list in the file info dict and remove duplicates\n",
    "      file_info_dict['Channels'] = list(set(channels))\n",
    "      # reset the rest of the options\n",
    "      file_info_dict['Start Time'] = ''\n",
    "      file_info_dict['End Time'] = ''\n",
    "      file_info_dict['Seizures Window'] = []\n",
    "\n",
    "    # if the line is about the file start time\n",
    "    elif re.findall('File Start Time', line):\n",
    "      # get the start time\n",
    "      file_info_dict['Start Time'] = re.findall('\\d+:\\d+:\\d+', line)[0]\n",
    "\n",
    "    # if the line is about the file end time\n",
    "    elif re.findall('File End Time', line):\n",
    "      # get the start time\n",
    "      file_info_dict['End Time'] = re.findall('\\d+:\\d+:\\d+', line)[0]\n",
    "\n",
    "    elif re.findall('Seizure Start Time|Seizure End Time|Seizure \\d+ Start Time|Seizure \\d+ End Time', line):\n",
    "      file_info_dict['Seizures Window'].append(int(re.findall('\\d+', line)[-1]))\n",
    "\n",
    "    # if last line in the list...\n",
    "    if line_no == line_nos:\n",
    "      # flush the file info to it\n",
    "      part_info_dict[file_name] = file_info_dict\n",
    "\n",
    "    line_no+=1\n",
    "    \n",
    "        \n",
    "for part_code in os.listdir(r\"C:\\Users\\byan\\chb\\chb-mit\"):\n",
    "  if os.path.isdir(os.path.join(base_dir, part_code)):\n",
    "    content = get_content(part_code)\n",
    "    info_dict(content)"
   ]
  },
  {
   "cell_type": "code",
   "execution_count": 4,
   "metadata": {},
   "outputs": [
    {
     "data": {
      "text/html": [
       "<div>\n",
       "<style scoped>\n",
       "    .dataframe tbody tr th:only-of-type {\n",
       "        vertical-align: middle;\n",
       "    }\n",
       "\n",
       "    .dataframe tbody tr th {\n",
       "        vertical-align: top;\n",
       "    }\n",
       "\n",
       "    .dataframe thead th {\n",
       "        text-align: right;\n",
       "    }\n",
       "</style>\n",
       "<table border=\"1\" class=\"dataframe\">\n",
       "  <thead>\n",
       "    <tr style=\"text-align: right;\">\n",
       "      <th></th>\n",
       "      <th>Channels</th>\n",
       "      <th>Start Time</th>\n",
       "      <th>End Time</th>\n",
       "      <th>Seizures Window</th>\n",
       "    </tr>\n",
       "  </thead>\n",
       "  <tbody>\n",
       "    <tr>\n",
       "      <th>chb01_01</th>\n",
       "      <td>[FP1-F7, C3-P3, FT9-FT10, P8-O2, FT10-T8, FP1-...</td>\n",
       "      <td>11:42:54</td>\n",
       "      <td>12:42:54</td>\n",
       "      <td>[]</td>\n",
       "    </tr>\n",
       "    <tr>\n",
       "      <th>chb01_02</th>\n",
       "      <td>[FP1-F7, C3-P3, FT9-FT10, P8-O2, FT10-T8, FP1-...</td>\n",
       "      <td>12:42:57</td>\n",
       "      <td>13:42:57</td>\n",
       "      <td>[]</td>\n",
       "    </tr>\n",
       "    <tr>\n",
       "      <th>chb01_03</th>\n",
       "      <td>[FP1-F7, C3-P3, FT9-FT10, P8-O2, FT10-T8, FP1-...</td>\n",
       "      <td>13:43:04</td>\n",
       "      <td>14:43:04</td>\n",
       "      <td>[2996, 3036]</td>\n",
       "    </tr>\n",
       "    <tr>\n",
       "      <th>chb01_04</th>\n",
       "      <td>[FP1-F7, C3-P3, FT9-FT10, P8-O2, FT10-T8, FP1-...</td>\n",
       "      <td>14:43:12</td>\n",
       "      <td>15:43:12</td>\n",
       "      <td>[1467, 1494]</td>\n",
       "    </tr>\n",
       "    <tr>\n",
       "      <th>chb01_05</th>\n",
       "      <td>[FP1-F7, C3-P3, FT9-FT10, P8-O2, FT10-T8, FP1-...</td>\n",
       "      <td>15:43:19</td>\n",
       "      <td>16:43:19</td>\n",
       "      <td>[]</td>\n",
       "    </tr>\n",
       "  </tbody>\n",
       "</table>\n",
       "</div>"
      ],
      "text/plain": [
       "                                                   Channels Start Time  \\\n",
       "chb01_01  [FP1-F7, C3-P3, FT9-FT10, P8-O2, FT10-T8, FP1-...   11:42:54   \n",
       "chb01_02  [FP1-F7, C3-P3, FT9-FT10, P8-O2, FT10-T8, FP1-...   12:42:57   \n",
       "chb01_03  [FP1-F7, C3-P3, FT9-FT10, P8-O2, FT10-T8, FP1-...   13:43:04   \n",
       "chb01_04  [FP1-F7, C3-P3, FT9-FT10, P8-O2, FT10-T8, FP1-...   14:43:12   \n",
       "chb01_05  [FP1-F7, C3-P3, FT9-FT10, P8-O2, FT10-T8, FP1-...   15:43:19   \n",
       "\n",
       "          End Time Seizures Window  \n",
       "chb01_01  12:42:54              []  \n",
       "chb01_02  13:42:57              []  \n",
       "chb01_03  14:43:04    [2996, 3036]  \n",
       "chb01_04  15:43:12    [1467, 1494]  \n",
       "chb01_05  16:43:19              []  "
      ]
     },
     "execution_count": 4,
     "metadata": {},
     "output_type": "execute_result"
    }
   ],
   "source": [
    "files_df=pd.DataFrame(part_info_dict).T\n",
    "files_df = files_df[~files_df.index.to_series().str.contains('chb24')]\n",
    "files_df.head()"
   ]
  },
  {
   "cell_type": "code",
   "execution_count": 5,
   "metadata": {},
   "outputs": [],
   "source": [
    "files_df.Channels=files_df.Channels.map(lambda x: set(x))\n",
    "channels_keep=set.intersection(*files_df.Channels)  # find common channels among all records\n",
    "files_df.drop(labels=['Channels'],axis=1,inplace=True)"
   ]
  },
  {
   "cell_type": "code",
   "execution_count": 6,
   "metadata": {},
   "outputs": [],
   "source": [
    "seizure_files=files_df.loc[files_df['Seizures Window'].map(lambda x: len(x)>=2) ]  \n",
    "no_seizure_files= files_df.loc[files_df['Seizures Window'].map(lambda x: len(x)<2)]  \n"
   ]
  },
  {
   "cell_type": "code",
   "execution_count": 7,
   "metadata": {},
   "outputs": [],
   "source": [
    "def start_end_pair(array):\n",
    "  \"\"\"\n",
    "  in  > [1,2,3,4,5,6]          \n",
    "  out > [(1,2),(3,4),(5,6)]    start,end pairs for each recording period  \n",
    "  \"\"\"\n",
    "  pairs=[]\n",
    "  for i in range(0,len(array),2):\n",
    "    pairs.append((array[i],array[i+1]))\n",
    "  return pairs\n",
    "\n",
    "def find_total_time_sec(start,end):\n",
    "  \"\"\"\n",
    "  s : pd.Series object\n",
    "  \"\"\"\n",
    "  #s=s.map(lambda x:pd.to_datetime(x, format='%H:%M:%S') )\n",
    "  start=list( start.map(lambda x: (str(x).strip('][').split(\":\")) ).map(lambda x: [int(i) for i in x] ) )\n",
    "  end=list(end.map(lambda x: (str(x).strip('][').split(\":\")) ).map(lambda x: [int(i) for i in x] ) ) \n",
    "  diff=pd.Series()\n",
    "  for i,(s,e) in enumerate(zip(start,end)):\n",
    "    diff.loc[i]=(e[0]-s[0])*60*60 + (e[1]-s[1])*60 +(e[2]-s[2])\n",
    "  return diff.values"
   ]
  },
  {
   "cell_type": "code",
   "execution_count": 8,
   "metadata": {},
   "outputs": [
    {
     "name": "stderr",
     "output_type": "stream",
     "text": [
      "C:\\Users\\byan\\AppData\\Local\\Temp\\ipykernel_10900\\239066888.py:1: SettingWithCopyWarning: \n",
      "A value is trying to be set on a copy of a slice from a DataFrame.\n",
      "Try using .loc[row_indexer,col_indexer] = value instead\n",
      "\n",
      "See the caveats in the documentation: https://pandas.pydata.org/pandas-docs/stable/user_guide/indexing.html#returning-a-view-versus-a-copy\n",
      "  no_seizure_files[\"total_sec\"]= find_total_time_sec(no_seizure_files['Start Time'],no_seizure_files['End Time'])\n"
     ]
    }
   ],
   "source": [
    "\n",
    "no_seizure_files[\"total_sec\"]= find_total_time_sec(no_seizure_files['Start Time'],no_seizure_files['End Time'])\n"
   ]
  },
  {
   "cell_type": "code",
   "execution_count": 9,
   "metadata": {},
   "outputs": [
    {
     "name": "stderr",
     "output_type": "stream",
     "text": [
      "C:\\Users\\byan\\AppData\\Local\\Temp\\ipykernel_10900\\1230261561.py:1: SettingWithCopyWarning: \n",
      "A value is trying to be set on a copy of a slice from a DataFrame\n",
      "\n",
      "See the caveats in the documentation: https://pandas.pydata.org/pandas-docs/stable/user_guide/indexing.html#returning-a-view-versus-a-copy\n",
      "  no_seizure_files.drop([\"Start Time\" ,\t\"End Time\" ,\t\"Seizures Window\"],axis=1,inplace=True)\n"
     ]
    }
   ],
   "source": [
    "no_seizure_files.drop([\"Start Time\" ,\t\"End Time\" ,\t\"Seizures Window\"],axis=1,inplace=True)"
   ]
  },
  {
   "cell_type": "code",
   "execution_count": 10,
   "metadata": {},
   "outputs": [],
   "source": [
    "seizure_files.loc[:,\"Seizures Window\"]=seizure_files[\"Seizures Window\"].map(start_end_pair )\n",
    "seizure_files=seizure_files.explode(\"Seizures Window\")"
   ]
  },
  {
   "cell_type": "code",
   "execution_count": 11,
   "metadata": {},
   "outputs": [],
   "source": [
    "from sklearn.model_selection import train_test_split\n",
    "no_seizure_files_train,no_seizure_files_test=train_test_split( no_seizure_files ,random_state=0 )\n",
    "seizure_files_train,seizure_files_test=train_test_split( seizure_files ,random_state=0)\n"
   ]
  },
  {
   "cell_type": "code",
   "execution_count": 12,
   "metadata": {},
   "outputs": [],
   "source": [
    "def no_seizure_window(total_sec,window_size=15,samples_per_record=20 ):\n",
    "  starts=np.random.randint(0,high= total_sec - window_size , size=samples_per_record)\n",
    "  return list(map(lambda x : (x,x+window_size),starts ))\n",
    "\n",
    "def seizure_window(start_end,val=False,window_size=15):\n",
    "  start,end=start_end\n",
    "  l=[]\n",
    "  i=start\n",
    "  while i < end-1:\n",
    "    l.append((i,i+window_size))\n",
    "    if val:\n",
    "      i+=window_size\n",
    "    else:\n",
    "      i+=1\n",
    "  return l\n",
    "seizure_files_train['Seizures Window']=seizure_files_train['Seizures Window'].map(lambda x : seizure_window(x) )\n",
    "seizure_files_train=seizure_files_train.explode(\"Seizures Window\")\n",
    "\n",
    "seizure_files_test['Seizures Window']=seizure_files_test['Seizures Window'].map(lambda x : seizure_window(x,val=True) )\n",
    "seizure_files_test=seizure_files_test.explode(\"Seizures Window\")\n",
    "\n",
    "no_seizure_files_train[\"Seizures Window\"]=no_seizure_files_train.total_sec.map(no_seizure_window)\n",
    "no_seizure_files_train=no_seizure_files_train.explode(\"Seizures Window\")\n",
    "\n",
    "no_seizure_files_test[\"Seizures Window\"]=no_seizure_files_test.total_sec.map(lambda x: no_seizure_window(x,samples_per_record=10))\n",
    "no_seizure_files_test=no_seizure_files_test.explode(\"Seizures Window\")\n",
    "\n"
   ]
  },
  {
   "cell_type": "code",
   "execution_count": 13,
   "metadata": {},
   "outputs": [],
   "source": [
    "no_seizure_files_train.drop(['total_sec'],axis=1,inplace=True)\n",
    "no_seizure_files_test.drop(['total_sec'],axis=1,inplace=True)\n"
   ]
  },
  {
   "cell_type": "code",
   "execution_count": 14,
   "metadata": {},
   "outputs": [],
   "source": [
    "seizure_files_train['label']=1\n",
    "seizure_files_test['label']=1\n",
    "\n",
    "no_seizure_files_train[\"label\"]=0\n",
    "no_seizure_files_test[\"label\"]=0\n",
    "\n",
    "\n",
    "training_df=pd.concat([seizure_files_train,no_seizure_files_train],axis=0)\n",
    "testing_df=pd.concat([seizure_files_test,no_seizure_files_test],axis=0)\n",
    "\n",
    "training_df=training_df.sample(frac= 1) \n",
    "testing_df=testing_df.sample(frac=1)"
   ]
  },
  {
   "cell_type": "code",
   "execution_count": 15,
   "metadata": {},
   "outputs": [
    {
     "data": {
      "text/html": [
       "<div>\n",
       "<style scoped>\n",
       "    .dataframe tbody tr th:only-of-type {\n",
       "        vertical-align: middle;\n",
       "    }\n",
       "\n",
       "    .dataframe tbody tr th {\n",
       "        vertical-align: top;\n",
       "    }\n",
       "\n",
       "    .dataframe thead th {\n",
       "        text-align: right;\n",
       "    }\n",
       "</style>\n",
       "<table border=\"1\" class=\"dataframe\">\n",
       "  <thead>\n",
       "    <tr style=\"text-align: right;\">\n",
       "      <th></th>\n",
       "      <th>Start Time</th>\n",
       "      <th>End Time</th>\n",
       "      <th>Seizures Window</th>\n",
       "      <th>label</th>\n",
       "    </tr>\n",
       "  </thead>\n",
       "  <tbody>\n",
       "    <tr>\n",
       "      <th>chb15_61</th>\n",
       "      <td>NaN</td>\n",
       "      <td>NaN</td>\n",
       "      <td>(3226, 3241)</td>\n",
       "      <td>0</td>\n",
       "    </tr>\n",
       "    <tr>\n",
       "      <th>chb05_16</th>\n",
       "      <td>08:22:35</td>\n",
       "      <td>9:22:35</td>\n",
       "      <td>(2402, 2417)</td>\n",
       "      <td>1</td>\n",
       "    </tr>\n",
       "    <tr>\n",
       "      <th>chb08_05</th>\n",
       "      <td>15:29:14</td>\n",
       "      <td>16:29:14</td>\n",
       "      <td>(3027, 3042)</td>\n",
       "      <td>1</td>\n",
       "    </tr>\n",
       "    <tr>\n",
       "      <th>chb06_15</th>\n",
       "      <td>NaN</td>\n",
       "      <td>NaN</td>\n",
       "      <td>(6403, 6418)</td>\n",
       "      <td>0</td>\n",
       "    </tr>\n",
       "    <tr>\n",
       "      <th>chb03_06</th>\n",
       "      <td>NaN</td>\n",
       "      <td>NaN</td>\n",
       "      <td>(413, 428)</td>\n",
       "      <td>0</td>\n",
       "    </tr>\n",
       "  </tbody>\n",
       "</table>\n",
       "</div>"
      ],
      "text/plain": [
       "         Start Time  End Time Seizures Window  label\n",
       "chb15_61        NaN       NaN    (3226, 3241)      0\n",
       "chb05_16   08:22:35   9:22:35    (2402, 2417)      1\n",
       "chb08_05   15:29:14  16:29:14    (3027, 3042)      1\n",
       "chb06_15        NaN       NaN    (6403, 6418)      0\n",
       "chb03_06        NaN       NaN      (413, 428)      0"
      ]
     },
     "execution_count": 15,
     "metadata": {},
     "output_type": "execute_result"
    }
   ],
   "source": [
    "training_df.head()"
   ]
  },
  {
   "cell_type": "code",
   "execution_count": 16,
   "metadata": {},
   "outputs": [],
   "source": [
    "training_df[\"Seizures Window\"]=training_df[\"Seizures Window\"].map(lambda x : x [0])\n",
    "testing_df[\"Seizures Window\"]=testing_df[\"Seizures Window\"].map(lambda x : x [0])\n",
    "\n",
    "training_df.to_csv(\"data/training.csv\") \n",
    "testing_df.to_csv(\"data/testing_df.csv\") \n"
   ]
  },
  {
   "cell_type": "code",
   "execution_count": 17,
   "metadata": {},
   "outputs": [
    {
     "data": {
      "text/html": [
       "<div>\n",
       "<style scoped>\n",
       "    .dataframe tbody tr th:only-of-type {\n",
       "        vertical-align: middle;\n",
       "    }\n",
       "\n",
       "    .dataframe tbody tr th {\n",
       "        vertical-align: top;\n",
       "    }\n",
       "\n",
       "    .dataframe thead th {\n",
       "        text-align: right;\n",
       "    }\n",
       "</style>\n",
       "<table border=\"1\" class=\"dataframe\">\n",
       "  <thead>\n",
       "    <tr style=\"text-align: right;\">\n",
       "      <th></th>\n",
       "      <th>Start Time</th>\n",
       "      <th>End Time</th>\n",
       "      <th>Seizures Window</th>\n",
       "      <th>label</th>\n",
       "    </tr>\n",
       "  </thead>\n",
       "  <tbody>\n",
       "    <tr>\n",
       "      <th>chb15_61</th>\n",
       "      <td>NaN</td>\n",
       "      <td>NaN</td>\n",
       "      <td>3226</td>\n",
       "      <td>0</td>\n",
       "    </tr>\n",
       "    <tr>\n",
       "      <th>chb05_16</th>\n",
       "      <td>08:22:35</td>\n",
       "      <td>9:22:35</td>\n",
       "      <td>2402</td>\n",
       "      <td>1</td>\n",
       "    </tr>\n",
       "    <tr>\n",
       "      <th>chb08_05</th>\n",
       "      <td>15:29:14</td>\n",
       "      <td>16:29:14</td>\n",
       "      <td>3027</td>\n",
       "      <td>1</td>\n",
       "    </tr>\n",
       "    <tr>\n",
       "      <th>chb06_15</th>\n",
       "      <td>NaN</td>\n",
       "      <td>NaN</td>\n",
       "      <td>6403</td>\n",
       "      <td>0</td>\n",
       "    </tr>\n",
       "    <tr>\n",
       "      <th>chb03_06</th>\n",
       "      <td>NaN</td>\n",
       "      <td>NaN</td>\n",
       "      <td>413</td>\n",
       "      <td>0</td>\n",
       "    </tr>\n",
       "  </tbody>\n",
       "</table>\n",
       "</div>"
      ],
      "text/plain": [
       "         Start Time  End Time  Seizures Window  label\n",
       "chb15_61        NaN       NaN             3226      0\n",
       "chb05_16   08:22:35   9:22:35             2402      1\n",
       "chb08_05   15:29:14  16:29:14             3027      1\n",
       "chb06_15        NaN       NaN             6403      0\n",
       "chb03_06        NaN       NaN              413      0"
      ]
     },
     "execution_count": 17,
     "metadata": {},
     "output_type": "execute_result"
    }
   ],
   "source": [
    "training_df.head()"
   ]
  },
  {
   "cell_type": "code",
   "execution_count": 18,
   "metadata": {},
   "outputs": [],
   "source": [
    "\n",
    "def read_edf(file_name,start_t=0,window=15,s_rate=256):\n",
    "  try:\n",
    "      global channels_keep\n",
    "      file_name=os.path.join(base_dir,file_name[:5],str(file_name)+\".edf\")\n",
    "      f=wpi.ioeeg.edf.Edf(file_name)\n",
    "      sig_labels=f.return_hdr()[3]\n",
    "      try:\n",
    "        idx= list(map(lambda x: sig_labels.index(x), channels_keep )) \n",
    "      except Exception as ex:\n",
    "        channels_keep_first=list(map(lambda x: x.split('-')[0] , channels_keep))\n",
    "        sig_labels=list(map(lambda x: x.split('-')[0] if len(x)>2 else x[:2] ,sig_labels))\n",
    "        idx= list(map(lambda x: sig_labels.index(x), channels_keep_first ))\n",
    "        print(e)\n",
    "        print(file_name)\n",
    "        return None\n",
    "      sigbufs=f.return_dat(idx,start_t*s_rate,start_t*s_rate+window*s_rate)\n",
    "  except OSError as e:\n",
    "        print('cannot open', file_name)\n",
    "        print(e)\n",
    "        return None\n",
    "  \n",
    "  except Exception as e:\n",
    "    print(e)\n",
    "    print(file_name)\n",
    "\n",
    "    \n",
    "    return None\n",
    "\n",
    "\n",
    "  return sigbufs.T"
   ]
  },
  {
   "cell_type": "code",
   "execution_count": null,
   "metadata": {},
   "outputs": [],
   "source": [
    "with h5py.File(\"data/train.hdf5\", \"w\") as f :\n",
    "  y=f.create_dataset(\"y\", (training_df.shape[0],),dtype='i')\n",
    "  y[:]=training_df.label.values\n",
    "  X = f.create_dataset(\"X\", (training_df.shape[0],15*256, 18), dtype='f')\n",
    "\n",
    "\n",
    "  for i,(index,row) in enumerate(training_df.iterrows()):\n",
    "    raw=read_edf(index,row['Seizures Window'])\n",
    "    if raw is not None:\n",
    "      X[i]=raw\n",
    "      print(i)\n",
    "    else:\n",
    "      print(\"error reading {}\".format(index))\n"
   ]
  },
  {
   "cell_type": "code",
   "execution_count": null,
   "metadata": {},
   "outputs": [],
   "source": [
    "with h5py.File(\"data/test.hdf5\", \"w\") as f :\n",
    "  y=f.create_dataset(\"y\", (testing_df.shape[0],),dtype='i')\n",
    "  y[:]=testing_df.label.values\n",
    "  X = f.create_dataset(\"X\", (training_df.shape[0],15*256, 18), dtype='f')\n",
    "\n",
    "\n",
    "  for i,(index,row) in enumerate(testing_df.iterrows()):\n",
    "    raw=read_edf(index,row['Seizures Window'])\n",
    "    if raw is not None:\n",
    "      X[i]=raw\n",
    "      print(i)\n",
    "    else:\n",
    "      print(\"error reading {}\".format(index))\n"
   ]
  },
  {
   "cell_type": "code",
   "execution_count": 26,
   "metadata": {},
   "outputs": [
    {
     "data": {
      "text/plain": [
       "(15794, 4)"
      ]
     },
     "execution_count": 26,
     "metadata": {},
     "output_type": "execute_result"
    }
   ],
   "source": [
    "training_df.shape"
   ]
  },
  {
   "cell_type": "code",
   "execution_count": 27,
   "metadata": {},
   "outputs": [
    {
     "data": {
      "text/plain": [
       "(1566, 4)"
      ]
     },
     "execution_count": 27,
     "metadata": {},
     "output_type": "execute_result"
    }
   ],
   "source": [
    "testing_df.shape"
   ]
  }
 ],
 "metadata": {
  "kernelspec": {
   "display_name": ".venv",
   "language": "python",
   "name": "python3"
  },
  "language_info": {
   "codemirror_mode": {
    "name": "ipython",
    "version": 3
   },
   "file_extension": ".py",
   "mimetype": "text/x-python",
   "name": "python",
   "nbconvert_exporter": "python",
   "pygments_lexer": "ipython3",
   "version": "3.11.8"
  }
 },
 "nbformat": 4,
 "nbformat_minor": 2
}
