{
 "cells": [
  {
   "cell_type": "code",
   "execution_count": 1,
   "metadata": {},
   "outputs": [
    {
     "name": "stderr",
     "output_type": "stream",
     "text": [
      "C:\\Users\\byan\\AppData\\Local\\Temp\\ipykernel_12252\\2735699808.py:3: DeprecationWarning: \n",
      "Pyarrow will become a required dependency of pandas in the next major release of pandas (pandas 3.0),\n",
      "(to allow more performant data types, such as the Arrow string type, and better interoperability with other libraries)\n",
      "but was not found to be installed on your system.\n",
      "If this would cause problems for you,\n",
      "please provide us feedback at https://github.com/pandas-dev/pandas/issues/54466\n",
      "        \n",
      "  import pandas as pd\n"
     ]
    }
   ],
   "source": [
    "import h5py\n",
    "import numpy as np\n",
    "import pandas as pd \n",
    "import scipy"
   ]
  },
  {
   "cell_type": "code",
   "execution_count": 2,
   "metadata": {},
   "outputs": [],
   "source": [
    "def read_data(path_of_data):\n",
    "  \"\"\"\n",
    "  read data seaved in h5py format\n",
    "  assuming group keys that exists are X,y \n",
    "  \"\"\"\n",
    "  with h5py.File(path_of_data, \"r\") as f:\n",
    "    X,y = f[\"X\"][:],f['y'][:]\n",
    "  return X,y\n",
    "\n",
    "\n",
    "def signals_log_sum(signal):\n",
    "    from scipy.special import logsumexp\n",
    "    logSum=logsumexp(signal,-2)\n",
    "    return logSum\n",
    "\n",
    "def signals_rms(signals):\n",
    "  rms=np.sqrt(np.mean(signals**2,axis=-2))\n",
    "  return rms \n",
    "\n",
    "def signals_std(signals):\n",
    "  std = np.std(signals,axis=-2)\n",
    "  return std\n",
    "\n",
    "def signals_avg_power(signals):\n",
    "  power=np.mean(signals,axis=-2)\n",
    "  return power\n",
    "\n",
    "def signals_mean_abs(signals):\n",
    "  mean_abs=np.mean(np.abs(signals),axis=-2)\n",
    "  return mean_abs\n",
    "\n",
    "def signals_energy(signals):\n",
    "  energy=np.mean(np.square(np.abs(signals)),axis=-2)\n",
    "  return energy\n",
    " \n",
    "\n",
    "def get_features(dataset,normalized=True):\n",
    "  features=np.concatenate([\n",
    "                               signals_log_sum(dataset),signals_avg_power(dataset),\n",
    "                               signals_energy(dataset),signals_rms(dataset) ,\n",
    "                               signals_mean_abs(dataset),signals_std(dataset)\n",
    "],axis=-1)\n",
    "  \n",
    "  return features "
   ]
  },
  {
   "cell_type": "code",
   "execution_count": 3,
   "metadata": {},
   "outputs": [],
   "source": [
    "train_18_X,train_18_y= read_data(\"data/train.hdf5\")\n",
    "val_18_X,val_18_y=read_data(\"data/test.hdf5\")"
   ]
  },
  {
   "cell_type": "code",
   "execution_count": 4,
   "metadata": {},
   "outputs": [
    {
     "name": "stdout",
     "output_type": "stream",
     "text": [
      "(15794, 3840, 18) (15794,)\n",
      "(1566, 3840, 18) (1566,)\n"
     ]
    }
   ],
   "source": [
    "print(train_18_X.shape,train_18_y.shape)\n",
    "print(val_18_X.shape,val_18_y.shape)"
   ]
  },
  {
   "cell_type": "code",
   "execution_count": 5,
   "metadata": {},
   "outputs": [],
   "source": [
    "#nans_indicies= np.any(np.isnan(train_18_X),axis=(1,2))\n",
    "#train_18_X,train_18_y = train_18_X[~nans_indicies],train_18_y[~nans_indicies]\n",
    "#nans_indicies= np.any(np.isnan(val_18_X),axis=(1,2))\n",
    "#val_18_X,val_18_y = val_18_X[~nans_indicies],val_18_y[~nans_indicies]"
   ]
  },
  {
   "cell_type": "code",
   "execution_count": 5,
   "metadata": {},
   "outputs": [
    {
     "name": "stdout",
     "output_type": "stream",
     "text": [
      "(15794, 3840, 18) (15794,)\n",
      "(1566,) (1566,)\n"
     ]
    }
   ],
   "source": [
    "print(train_18_X.shape,train_18_y.shape)\n",
    "print(val_18_y.shape,val_18_y.shape)"
   ]
  },
  {
   "cell_type": "code",
   "execution_count": 6,
   "metadata": {},
   "outputs": [],
   "source": [
    "train_18_X = get_features(train_18_X,)\n",
    "val_18_X = get_features(val_18_X,)"
   ]
  },
  {
   "cell_type": "code",
   "execution_count": 8,
   "metadata": {},
   "outputs": [
    {
     "name": "stdout",
     "output_type": "stream",
     "text": [
      "(15794, 108) (15794,)\n",
      "(15794, 108) (1566,)\n"
     ]
    }
   ],
   "source": [
    "print(train_18_X.shape,train_18_y.shape)\n",
    "print(val_18_X.shape,val_18_y.shape)"
   ]
  },
  {
   "cell_type": "code",
   "execution_count": 7,
   "metadata": {},
   "outputs": [],
   "source": [
    "train_features_df = pd.DataFrame(np.hstack((train_18_X,train_18_y[:,np.newaxis])))\n",
    "test_features_df = pd.DataFrame(np.hstack((val_18_X,val_18_y[:,np.newaxis])))\n"
   ]
  },
  {
   "cell_type": "code",
   "execution_count": 10,
   "metadata": {},
   "outputs": [],
   "source": [
    "train_features_df.to_csv('data/features_train.csv')\n",
    "test_features_df.to_csv('data/features_test.csv')"
   ]
  }
 ],
 "metadata": {
  "kernelspec": {
   "display_name": ".venv",
   "language": "python",
   "name": "python3"
  },
  "language_info": {
   "codemirror_mode": {
    "name": "ipython",
    "version": 3
   },
   "file_extension": ".py",
   "mimetype": "text/x-python",
   "name": "python",
   "nbconvert_exporter": "python",
   "pygments_lexer": "ipython3",
   "version": "3.11.8"
  }
 },
 "nbformat": 4,
 "nbformat_minor": 2
}
